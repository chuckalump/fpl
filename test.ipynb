import pandas as pd
import numpy as np
import json
#statsURL="https://fantasy.premierleague.com/api/bootstrap-static/"

#dfStats = pd.read_json("data/ft.json")
file = open("data/ft.json", encoding="utf8")

x  = file.read()
file.close()
dat=json.loads(x)
dat.values()
dat.keys()
######################
dfevents=pd.io.json.json_normalize(dat['events'])
dfsettings =pd.io.json.json_normalize(dat['game_settings'])
dfphases =pd.io.json.json_normalize(dat['phases'])
dfteams =pd.io.json.json_normalize(dat['teams'])
#dftotal_players =pd.io.json.json_normalize(dat['total_players'])
dfelements =pd.io.json.json_normalize(dat['elements'])
dfelement_stats =pd.io.json.json_normalize(dat['element_stats'])
dfelement_types =pd.io.json.json_normalize(dat['element_types'])

###############

dfpl=dfelements.merge(dfelement_types,left_on='element_type',right_on ='id' ).merge(dfteams, left_on='team', right_on='id') 
dfpl.keys()

##############
#Shane	Duffy for Aaron	Wan-Bissaka more goals 
dfpl.sort_values(['singular_name_short','minutes','total_points'], inplace=True, ascending=False)
dfpl[dfpl['singular_name_short'].str.contains('DEF')].loc[:,['short_name','first_name','second_name','singular_name_short','points','now_cost','minutes', 'goals_scored','assists', 'clean_sheets','saves', 'bonus', 'bps', 'influence', 'creativity', 'threat', 'goals_conceded', 'own_goals','penalties_saved', 'penalties_missed', 'yellow_cards', 'red_cards','chance_of_playing_this_round']]

##########
dfpl.keys()

##############
import matplotlib.pyplot as plt
fig=plt.figure()
fig.add_subplot(111)
fig.add_subplot(131)
plt.plot(dfpl['singular_name_short'],dfpl['total_points'],'ro')
plt.title("Points by position")
plt.ylabel('points')
plt.xlabel('position')
fig.add_subplot(132)
plt.scatter(dfpl['singular_name_short'],dfpl['now_cost'])
plt.title("Cost by position")
plt.ylabel('Cost')
plt.xlabel('position')
fig.add_subplot(133)
plt.scatter(dfpl['singular_name_short'],dfpl['now_cost']/dfpl['total_points'])
plt.title("Cost/point by position")
plt.ylabel('Cost/point')
plt.xlabel('position')
plt.show()
#type()
